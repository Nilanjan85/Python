{
 "cells": [
  {
   "cell_type": "markdown",
   "metadata": {},
   "source": [
    "<b>Select right threshold values using ROC Curve</b>"
   ]
  },
  {
   "cell_type": "code",
   "execution_count": 23,
   "metadata": {},
   "outputs": [],
   "source": [
    "import numpy as np\n",
    "import pandas as pd\n",
    "import matplotlib.pyplot as plt\n",
    "%matplotlib inline\n",
    "import seaborn as sns\n",
    "from sklearn.datasets import make_classification \n",
    "import warnings\n",
    "warnings.filterwarnings('ignore')"
   ]
  },
  {
   "cell_type": "code",
   "execution_count": 7,
   "metadata": {},
   "outputs": [
    {
     "data": {
      "text/plain": [
       "(2000, 20)"
      ]
     },
     "execution_count": 7,
     "metadata": {},
     "output_type": "execute_result"
    }
   ],
   "source": [
    "from sklearn.model_selection import train_test_split\n",
    "\n",
    "x,y = make_classification(n_samples=2000,n_classes=2,weights=[1,1],random_state=1)\n",
    "\n",
    "x.shape\n"
   ]
  },
  {
   "cell_type": "code",
   "execution_count": 8,
   "metadata": {},
   "outputs": [
    {
     "data": {
      "text/plain": [
       "array([0, 0, 0, ..., 1, 1, 0])"
      ]
     },
     "execution_count": 8,
     "metadata": {},
     "output_type": "execute_result"
    }
   ],
   "source": [
    "y"
   ]
  },
  {
   "cell_type": "code",
   "execution_count": 10,
   "metadata": {},
   "outputs": [],
   "source": [
    "x_train, x_test, y_train,y_test = train_test_split(x,y,test_size=0.3,random_state=1)"
   ]
  },
  {
   "cell_type": "code",
   "execution_count": 12,
   "metadata": {},
   "outputs": [],
   "source": [
    "from sklearn.metrics import roc_curve\n",
    "from sklearn.metrics import roc_auc_score"
   ]
  },
  {
   "cell_type": "markdown",
   "metadata": {},
   "source": [
    "<b> Logistic Regresson </b>"
   ]
  },
  {
   "cell_type": "code",
   "execution_count": 24,
   "metadata": {},
   "outputs": [
    {
     "name": "stdout",
     "output_type": "stream",
     "text": [
      "logistic train roc 0.9863589331232614 \n",
      "logistic train roc 0.9885777777777777 \n"
     ]
    }
   ],
   "source": [
    "from sklearn.linear_model import LogisticRegression\n",
    "log_classifier = LogisticRegression()\n",
    "log_classifier.fit(x_train,y_train)\n",
    "y_train_pred = log_classifier.predict_proba(x_train)\n",
    "print('logistic train roc {} '.format(roc_auc_score(y_train,y_train_pred[:,1])))\n",
    "y_test_pred = log_classifier.predict_proba(x_test)\n",
    "print('logistic train roc {} '.format(roc_auc_score(y_test,y_test_pred[:,1])))"
   ]
  },
  {
   "cell_type": "markdown",
   "metadata": {},
   "source": [
    "<b> Random Forest </b>"
   ]
  },
  {
   "cell_type": "code",
   "execution_count": 26,
   "metadata": {},
   "outputs": [
    {
     "name": "stdout",
     "output_type": "stream",
     "text": [
      "logistic train roc 0.9999683667659202 \n",
      "logistic train roc 0.9750444444444444 \n"
     ]
    }
   ],
   "source": [
    "from sklearn.ensemble import RandomForestClassifier\n",
    "rf_classifier = RandomForestClassifier()\n",
    "rf_classifier.fit(x_train,y_train)\n",
    "y_train_pred = rf_classifier.predict_proba(x_train)\n",
    "print('logistic train roc {} '.format(roc_auc_score(y_train,y_train_pred[:,1])))\n",
    "y_test_pred = rf_classifier.predict_proba(x_test)\n",
    "print('logistic train roc {} '.format(roc_auc_score(y_test,y_test_pred[:,1])))"
   ]
  },
  {
   "cell_type": "markdown",
   "metadata": {},
   "source": [
    "<b> Adaboost Classifier </b>"
   ]
  },
  {
   "cell_type": "code",
   "execution_count": 21,
   "metadata": {},
   "outputs": [
    {
     "name": "stdout",
     "output_type": "stream",
     "text": [
      "logistic train roc 0.9975081174960356 \n",
      "logistic train roc 0.9826111111111111 \n"
     ]
    }
   ],
   "source": [
    "from sklearn.ensemble import AdaBoostClassifier\n",
    "ada_classifier = AdaBoostClassifier()\n",
    "ada_classifier.fit(x_train,y_train)\n",
    "y_train_pred = ada_classifier.predict_proba(x_train)\n",
    "print('logistic train roc {} '.format(roc_auc_score(y_train,y_train_pred[:,1])))\n",
    "y_test_pred = ada_classifier.predict_proba(x_test)\n",
    "print('logistic train roc {} '.format(roc_auc_score(y_test,y_test_pred[:,1])))"
   ]
  },
  {
   "cell_type": "markdown",
   "metadata": {},
   "source": [
    "<b>KNN Classifier </b>"
   ]
  },
  {
   "cell_type": "code",
   "execution_count": 19,
   "metadata": {},
   "outputs": [
    {
     "name": "stdout",
     "output_type": "stream",
     "text": [
      "logistic train roc 0.981670071491109 \n",
      "logistic train roc 0.9426111111111111 \n"
     ]
    }
   ],
   "source": [
    "from sklearn.neighbors import KNeighborsClassifier\n",
    "knn_classifier = KNeighborsClassifier()\n",
    "knn_classifier.fit(x_train,y_train)\n",
    "y_train_pred = knn_classifier.predict_proba(x_train)\n",
    "print('logistic train roc {} '.format(roc_auc_score(y_train,y_train_pred[:,1])))\n",
    "y_test_pred = knn_classifier.predict_proba(x_test)\n",
    "print('logistic train roc {} '.format(roc_auc_score(y_test,y_test_pred[:,1])))"
   ]
  },
  {
   "cell_type": "markdown",
   "metadata": {},
   "source": [
    "<b> Select the best threshold value for max accuracy </b>"
   ]
  },
  {
   "cell_type": "code",
   "execution_count": 31,
   "metadata": {},
   "outputs": [
    {
     "name": "stdout",
     "output_type": "stream",
     "text": [
      "Ensemble test roc-auc: 0.9838111111111111 \n"
     ]
    }
   ],
   "source": [
    "pred=[]\n",
    "for model in [log_classifier,rf_classifier,ada_classifier,knn_classifier]:\n",
    "    pred.append(pd.Series(model.predict_proba(x_test)[:,1]))\n",
    "final_prediction = pd.concat(pred,axis=1).mean(axis=1)\n",
    "print('Ensemble test roc-auc: {} '.format(roc_auc_score(y_test,final_prediction)))"
   ]
  },
  {
   "cell_type": "code",
   "execution_count": 32,
   "metadata": {},
   "outputs": [
    {
     "data": {
      "text/plain": [
       "array([1.91424695, 0.91424695, 0.91156638, 0.91077267, 0.80603006,\n",
       "       0.805555  , 0.79661529, 0.79407151, 0.78965801, 0.78782624,\n",
       "       0.77129056, 0.76820261, 0.7656264 , 0.76349235, 0.72009381,\n",
       "       0.7187815 , 0.67887594, 0.67718131, 0.64850795, 0.64762509,\n",
       "       0.60945998, 0.6086407 , 0.57109778, 0.56722851, 0.5670837 ,\n",
       "       0.55701661, 0.53522617, 0.52865575, 0.50323121, 0.49370183,\n",
       "       0.49060863, 0.49016378, 0.4690538 , 0.45958793, 0.45873479,\n",
       "       0.41212534, 0.40842204, 0.39004021, 0.38553337, 0.22196586,\n",
       "       0.22112022, 0.19458753, 0.19315777, 0.19102138, 0.19096876,\n",
       "       0.14578578, 0.14283509, 0.10541872])"
      ]
     },
     "execution_count": 32,
     "metadata": {},
     "output_type": "execute_result"
    }
   ],
   "source": [
    "## Calculate ROC curve\n",
    "\n",
    "fpr, tpr, threshold = roc_curve(y_test,final_prediction)\n",
    "threshold"
   ]
  }
 ],
 "metadata": {
  "kernelspec": {
   "display_name": "Python 3",
   "language": "python",
   "name": "python3"
  },
  "language_info": {
   "codemirror_mode": {
    "name": "ipython",
    "version": 3
   },
   "file_extension": ".py",
   "mimetype": "text/x-python",
   "name": "python",
   "nbconvert_exporter": "python",
   "pygments_lexer": "ipython3",
   "version": "3.7.4"
  }
 },
 "nbformat": 4,
 "nbformat_minor": 2
}

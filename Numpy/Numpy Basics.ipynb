{
 "cells": [
  {
   "cell_type": "code",
   "execution_count": 2,
   "metadata": {},
   "outputs": [
    {
     "name": "stdout",
     "output_type": "stream",
     "text": [
      "[[1 2 3 4 5 8]\n",
      " [2 3 4 5 6 2]\n",
      " [9 7 5 0 3 5]]\n",
      "[1 2 3 4 5]\n"
     ]
    },
    {
     "data": {
      "text/plain": [
       "array([1, 2])"
      ]
     },
     "execution_count": 2,
     "metadata": {},
     "output_type": "execute_result"
    }
   ],
   "source": [
    "import numpy as np\n",
    "\n",
    "# Constructing numpy array from list\n",
    "\n",
    "list1 = [1,2,3,4,5,8]\n",
    "list2 = [2,3,4,5,6,2]\n",
    "list3 = [9,7,5,0,3,5]\n",
    "\n",
    "arr1 = np.array([list1,list2,list3])\n",
    "print(arr1)\n",
    "arr = np.array([1,2,3,4,5])\n",
    "print(arr)\n",
    "\n",
    "# conditional masking\n",
    "\n",
    "arr[arr<3]"
   ]
  },
  {
   "cell_type": "code",
   "execution_count": 95,
   "metadata": {},
   "outputs": [
    {
     "name": "stdout",
     "output_type": "stream",
     "text": [
      "Dim of array arr 1 and arr1 2\n",
      " shape of the array (3, 6)\n",
      "size of array 18\n",
      "reshaoe array to 6X3  [[1 2 3]\n",
      " [4 5 8]\n",
      " [2 3 4]\n",
      " [5 6 2]\n",
      " [9 7 5]\n",
      " [0 3 5]]\n",
      "Original shape : (2, 2)\n",
      "Array : \n",
      " [[1. 1.]\n",
      " [1. 1.]]\n",
      "Shape after flatten : (4,)\n",
      "Array : \n",
      " [1. 1. 1. 1.]\n",
      "Shape after ravel : (4,)\n",
      "Array : \n",
      " [1. 1. 1. 1.]\n",
      "\n",
      " original array \n",
      " [[1 2 3 4 5 8]\n",
      " [2 3 4 5 6 2]\n",
      " [9 7 5 0 3 5]] and \n",
      " transpose is \n",
      " [[1 2 9]\n",
      " [2 3 7]\n",
      " [3 4 5]\n",
      " [4 5 0]\n",
      " [5 6 3]\n",
      " [8 2 5]]\n"
     ]
    }
   ],
   "source": [
    "## The Shape and Reshaping of NumPy Array\n",
    "#NumPy Attributes\n",
    "#1. ndim - Number of dimensions.\n",
    "#2. shape - The size of each dimension.\n",
    "#3. size - The total size of the array.\n",
    "#4. dtype - The data type of array elements.\n",
    "#5. itemsize - Byte size of each array element.\n",
    "#6. nbytes - Total size of the array. It is equal to itemsize times size.\n",
    "\n",
    "#Dimensions of NumPy array\n",
    "print('Dim of array arr {} and arr1 {}'.format(arr.ndim,arr1.ndim))\n",
    "\n",
    "#Shape of NumPy array\n",
    "print(' shape of the array',arr1.shape)\n",
    "#Size of NumPy array\n",
    "\n",
    "print('size of array',arr1.size)\n",
    "\n",
    "#Reshape the array \n",
    "print('reshaoe array to 6X3 ',arr1.reshape(6,3))\n",
    "\n",
    "# Flattening a NumPy array\n",
    "\n",
    "a = np.ones((2,2))\n",
    "b = a.flatten()\n",
    "c = a.ravel()\n",
    "print('Original shape :', a.shape)\n",
    "print('Array :','\\n', a)\n",
    "print('Shape after flatten :',b.shape)\n",
    "print('Array :','\\n', b)\n",
    "print('Shape after ravel :',c.shape)\n",
    "print('Array :','\\n', c)\n",
    "\n",
    "# Transpose of a NumPy array\n",
    "print('\\n original array \\n {} and \\n transpose is \\n {}'.format(arr1,arr1.T))\n"
   ]
  },
  {
   "cell_type": "code",
   "execution_count": null,
   "metadata": {},
   "outputs": [],
   "source": [
    "# Array Slicing\n",
    "\n",
    "# 1d\n",
    "\n",
    "# Nd\n",
    "\n",
    "a=np.array( [[2,3,5,8,7],\n",
    "             [4,1,0,9,6],\n",
    "             [6,3,4,0,6]] )\n",
    "\n",
    "# 2 rows 3 columns\n",
    "a[ :2, :3]\n",
    "# 3 rows 2 columns\n",
    "a[ :3, :2]\n"
   ]
  },
  {
   "cell_type": "code",
   "execution_count": 73,
   "metadata": {},
   "outputs": [
    {
     "name": "stdout",
     "output_type": "stream",
     "text": [
      "arr3 [[1 2 3]\n",
      " [4 5 8]]\n",
      "\n",
      " arr4[[2 3 4]\n",
      " [5 6 2]]\n",
      "\n",
      " New array appended vertically [[1 2 3 2 3 4]\n",
      " [4 5 8 5 6 2]]\n",
      "\n",
      " New array appended horizontally [[1 2 3]\n",
      " [4 5 8]\n",
      " [2 3 4]\n",
      " [5 6 2]]\n",
      "\n",
      " New array appended vertically vstack [[1 2 3]\n",
      " [4 5 8]\n",
      " [2 3 4]\n",
      " [5 6 2]]\n",
      "\n",
      " New array appended vertically hstack [[1 2 3 2 3 4]\n",
      " [4 5 8 5 6 2]]\n",
      "Split  [1 2 3] [99 99] [3 2 1]\n",
      "[[ 0  1  2  3]\n",
      " [ 4  5  6  7]\n",
      " [ 8  9 10 11]\n",
      " [12 13 14 15]]\n",
      "Upper [[0 1 2 3]\n",
      " [4 5 6 7]]\n",
      "lower [[ 8  9 10 11]\n",
      " [12 13 14 15]]\n",
      "left  [[ 0  1]\n",
      " [ 4  5]\n",
      " [ 8  9]\n",
      " [12 13]]\n",
      "right  [[ 2  3]\n",
      " [ 6  7]\n",
      " [10 11]\n",
      " [14 15]]\n",
      "split vertically  [array([[ 0,  1],\n",
      "       [ 4,  5],\n",
      "       [ 8,  9],\n",
      "       [12, 13]]), array([[ 2,  3],\n",
      "       [ 6,  7],\n",
      "       [10, 11],\n",
      "       [14, 15]])]\n",
      "split horizontally  [array([[0, 1, 2, 3],\n",
      "       [4, 5, 6, 7]]), array([[ 8,  9, 10, 11],\n",
      "       [12, 13, 14, 15]])]\n"
     ]
    }
   ],
   "source": [
    "## appending/concateneting and spliting numpy array \n",
    "\n",
    "# Appending data to numpy 1d\n",
    "\n",
    "arr1 = np.array(list1)\n",
    "arr2 = np.array(list2)\n",
    "\n",
    "##adding it horizontally\n",
    "np.append(arr1,arr2)\n",
    "\n",
    "# Appending numpy array nd\n",
    "\n",
    "arr3 = np.array(list1).reshape(2,3)\n",
    "print('arr3 '+str(arr3))\n",
    "arr4 = np.array(list2).reshape(2,3)\n",
    "print('\\n arr4'+str(arr4))\n",
    "\n",
    "## adding it vertically\n",
    "print('\\n New array appended vertically '+str(np.append(arr3,arr4,axis=1)))\n",
    "\n",
    "## adding it horizontally\n",
    "print('\\n New array appended horizontally '+str(np.append(arr3,arr4,axis=0)))\n",
    "\n",
    "\n",
    "## adding it vertically with vstack\n",
    "print('\\n New array appended vertically vstack '+str(np.vstack((arr3,arr4))))\n",
    "\n",
    "## adding it vertically with hstack\n",
    "print('\\n New array appended vertically hstack '+str(np.hstack((arr3,arr4))))\n",
    "\n",
    "## Splitting data in numpy numpy array\n",
    "\n",
    "# 1d\n",
    "x= [1,2,3,99,99,3,2,1]\n",
    "\n",
    "x1, x2, x3 = np.split(x,[3,5])\n",
    "print('Split ',x1,x2,x3)\n",
    "\n",
    "# nd\n",
    "a=np.arange(16).reshape((4,4))\n",
    "print(a)\n",
    "\n",
    "upper,lower =np.vsplit(a,[2])\n",
    "print('Upper',upper)\n",
    "print('lower',lower)\n",
    "\n",
    "left, right = np.hsplit(a,[2])\n",
    "print('left ',left)\n",
    "print('right ',right)\n",
    "\n",
    "a2 = np.split(a,2,1)\n",
    "print('split vertically ',a2)\n",
    "a3 = np.split(a,2,0)\n",
    "print('split horizontally ',a3)"
   ]
  },
  {
   "cell_type": "code",
   "execution_count": 62,
   "metadata": {},
   "outputs": [
    {
     "name": "stdout",
     "output_type": "stream",
     "text": [
      "Memory location of the original array 3014405269744\n",
      "Memory location of the copied array 3014405269744\n",
      "Print values of the original array [12  4  6  8 10]\n",
      "Print values of the copied array [12  4  6  8 10]\n",
      "Memory location of the original array 3014405269744\n",
      "Memory location of the copied array 3014404765456\n",
      "Print values of the original array [12 18  6  8 10]\n",
      "Print values of the copied array [12 18  6  8 10]\n",
      "Copy --Memory location of the original array 3014405269744\n",
      "Copy --Memory location of the copied array 3014405204688\n",
      "Copy --Print values of the original array [12 18  6  8 10]\n",
      "Copy --Print values of the copied array [12 18  5  8 10]\n"
     ]
    }
   ],
   "source": [
    "# Cpoying numpy array \n",
    "## There are 3 ways to copy a array to another array. 1) View 2) copy 3) assingment \n",
    "## 1. In View it create two array with different memory loc but change in themain array will change the copy \n",
    "## 2. In copy a separate copy of the array will be created and nay change to any element will no change the copy. (Deep copy)\n",
    "## 3. In general for assingment the smae memory location is accessed so called shallow copy.\n",
    "arr = np.array([2, 4, 6, 8, 10]) \n",
    "\n",
    "#1. Assigment \n",
    "\n",
    "nc = arr\n",
    "nc[0] = 12\n",
    "print('Memory location of the original array',id(arr))\n",
    "print('Memory location of the copied array',id(nc))\n",
    "\n",
    "print('Print values of the original array',arr)\n",
    "print('Print values of the copied array',arr)\n",
    "\n",
    "#2. View \n",
    "\n",
    "view1 = arr.view()\n",
    "view1[1] = 18 \n",
    "\n",
    "print('Memory location of the original array',id(arr))\n",
    "print('Memory location of the copied array',id(view1))\n",
    "\n",
    "print('Print values of the original array',arr)\n",
    "print('Print values of the copied array',view1)\n",
    "\n",
    "#2. Copy\n",
    "\n",
    "c = arr.copy() \n",
    "\n",
    "c[2] = 5\n",
    " \n",
    "print('Copy --Memory location of the original array',id(arr))\n",
    "print('Copy --Memory location of the copied array',id(c))\n",
    "print('Copy --Print values of the original array',arr)\n",
    "print('Copy --Print values of the copied array',c)\n"
   ]
  },
  {
   "cell_type": "code",
   "execution_count": 15,
   "metadata": {},
   "outputs": [
    {
     "name": "stdout",
     "output_type": "stream",
     "text": [
      "[6 4 2 4 5 0 4 4 3 2]\n",
      "the sorted array  [0 2 2 3 4 4 4 4 5 6]\n",
      "indices of the sorted array  [5 2 9 8 1 3 6 7 4 0]\n",
      " Python sort method for in-place sort  [0 2 2 3 4 4 4 4 5 6]\n"
     ]
    }
   ],
   "source": [
    "# Sorting in NumPy Arrays\n",
    "\n",
    "srt = np.random.randint(10,size=10)\n",
    "print(srt)\n",
    "\n",
    "print('the sorted array ',np.sort(srt))\n",
    "print('indices of the sorted array ',np.argsort(srt))\n",
    "\n",
    "srt.sort()\n",
    "print(' Python sort method for in-place sort ',srt)"
   ]
  },
  {
   "cell_type": "code",
   "execution_count": 78,
   "metadata": {},
   "outputs": [
    {
     "name": "stdout",
     "output_type": "stream",
     "text": [
      "Identity Integer matrix  [[1 0 0]\n",
      " [0 1 0]\n",
      " [0 0 1]]\n",
      "Identity Float matrix  [[1. 0. 0.]\n",
      " [0. 1. 0.]\n",
      " [0. 0. 1.]]\n"
     ]
    }
   ],
   "source": [
    "# Printing Identity Matrix\n",
    "\n",
    "print('Identity Integer matrix ',np.eye(3,3,dtype=int))\n",
    "\n",
    "print('Identity Float matrix ',np.eye(3,3))\n"
   ]
  },
  {
   "cell_type": "code",
   "execution_count": 83,
   "metadata": {},
   "outputs": [
    {
     "data": {
      "text/plain": [
       "array([[1, 1],\n",
       "       [1, 1],\n",
       "       [1, 1]])"
      ]
     },
     "execution_count": 83,
     "metadata": {},
     "output_type": "execute_result"
    }
   ],
   "source": [
    "#Printing an array filled with zeros and ones\n",
    "\n",
    "np.zeros(3,dtype=int)\n",
    "\n",
    "np.ones((3,2),dtype=int)"
   ]
  },
  {
   "cell_type": "code",
   "execution_count": 112,
   "metadata": {},
   "outputs": [
    {
     "name": "stdout",
     "output_type": "stream",
     "text": [
      "[0.72442231 0.29151741 0.44641032 0.23398061 0.84602798 0.38458315\n",
      " 0.80612598 0.08820044 0.61752135 0.99170236]\n",
      "Sum  5.430491890832215\n",
      "Min  0.0882004372173385\n",
      "\n",
      "Max  0.9917023615065045\n",
      "[[0.78698941 0.58719185 0.99990203 0.01997193 0.23853772]\n",
      " [0.22884513 0.52370046 0.44761112 0.39320506 0.42018727]]\n",
      "\n",
      " Sum by python fn  [1.01583454 1.11089231 1.44751315 0.413177   0.658725  ]\n",
      "\n",
      " [[26 66 34 25 75 99]\n",
      " [83 62 80 42 64 22]\n",
      " [45 25 96 62 48 97]\n",
      " [74 38 38 23 43 86]]\n",
      "\n",
      " sum row wise [325 353 373 302]\n",
      "\n",
      " min of column wise  [26 25 34 23 43 22]\n",
      "\n",
      " max of column wise [26 25 34 23 43 22]\n"
     ]
    },
    {
     "data": {
      "text/plain": [
       "array([5, 0, 5, 5], dtype=int64)"
      ]
     },
     "execution_count": 112,
     "metadata": {},
     "output_type": "execute_result"
    }
   ],
   "source": [
    "#Aggregation\n",
    "#Finding the max, min and sum of an array:\n",
    "#Finding the mean, median, variance and standard deviation of an array: In different axis\n",
    "\n",
    "# 1d\n",
    "a = np.random.random(10)\n",
    "print(a)\n",
    "\n",
    "print('Sum ',np.sum(a))\n",
    "print('Min ',np.min(a))\n",
    "\n",
    "print('\\nMax ',a.max())\n",
    "\n",
    "# n d\n",
    "\n",
    "b = np.random.random(10).reshape(2,5)\n",
    "print(b)\n",
    "\n",
    "# python sum fn not numpy\n",
    "print('\\n Sum by python fn ',sum(b))\n",
    "\n",
    "# Python function \n",
    "marks = np.random.randint(20,100, size=(4,6))\n",
    "print('\\n',marks)\n",
    "\n",
    "#Sum of student marks (sum row wise)\n",
    "print('\\n sum row wise',np.sum(marks,axis=1))\n",
    "\n",
    "#Min Max of each subject \n",
    "print('\\n min of column wise ',np.min(marks,axis=0))\n",
    "print('\\n max of column wise',np.min(marks,axis=0))\n",
    "np.argmax(marks,axis=1)"
   ]
  },
  {
   "cell_type": "code",
   "execution_count": 5,
   "metadata": {},
   "outputs": [
    {
     "name": "stdout",
     "output_type": "stream",
     "text": [
      "m : [[1 1 1]\n",
      " [1 1 1]\n",
      " [1 1 1]]\n",
      "shape of m  (3, 3)\n",
      "n : [1 2 3]\n",
      "shape of n  (3,)\n",
      "add  [[2 3 4]\n",
      " [2 3 4]\n",
      " [2 3 4]]\n",
      "shape of add  (3, 3)\n"
     ]
    }
   ],
   "source": [
    "#Broadcasting in Numpy Arrays\n",
    "#We have already seen NumPy universal functions at the very beginning. Broadcasting is another means of applying ufuncs but \n",
    "#on arrays of different sizes. Broadcasting is nothing but a set of rules applied by NumPy to perform unfuncs on arrays of \n",
    "#different sizes.\n",
    "\n",
    "m = np.ones((3,3),dtype=int)\n",
    "print('m :',m)\n",
    "print('shape of m ',m.shape)\n",
    "\n",
    "n = np.array([1,2,3])\n",
    "print('n :',n)\n",
    "print('shape of n ',n.shape)\n",
    "\n",
    "add = m + n\n",
    "print('add ',add)\n",
    "print('shape of add ',add.shape)"
   ]
  },
  {
   "cell_type": "code",
   "execution_count": null,
   "metadata": {},
   "outputs": [],
   "source": [
    "# NumPy Ufuncs\n",
    "#If we loop through the array it takes lot of time as well as lot of code to write. Hene this universal function help to perform \n",
    "#operations such ad addition, sub,multi,divsion faster by havng a wrapper class within it (wraper class - np.add(),bp.subtract(),np.multiply())"
   ]
  },
  {
   "cell_type": "code",
   "execution_count": 24,
   "metadata": {},
   "outputs": [
    {
     "name": "stdout",
     "output_type": "stream",
     "text": [
      "x : [42 36 85 17 79 68 17  7 79 69]\n",
      "normal indexing  [85, 79, 17]\n",
      "fancy indexing  [85 79 17]\n",
      "[96, 92, 27]\n",
      "fancy indexing for n d  [96 92 27]\n"
     ]
    }
   ],
   "source": [
    "# Fancy Indexing\n",
    "\n",
    "# 1 d\n",
    "x = np.random.randint(100,size=10)\n",
    "\n",
    "print('x :',x)\n",
    "\n",
    "# to get different subset of records from an array\n",
    "print('normal indexing ',[x[2],x[4],x[6]])\n",
    "\n",
    "print('fancy indexing ',x[[2,4,6]])\n",
    "\n",
    "# n d\n",
    "\n",
    "y = np.random.randint(100,size=(3,5))\n",
    "\n",
    "print([y[2,3],y[1,3],y[2,1]])\n",
    "\n",
    "print('fancy indexing for n d ',y[[2,1,2],[3,3,1]])"
   ]
  }
 ],
 "metadata": {
  "kernelspec": {
   "display_name": "Python 3",
   "language": "python",
   "name": "python3"
  },
  "language_info": {
   "codemirror_mode": {
    "name": "ipython",
    "version": 3
   },
   "file_extension": ".py",
   "mimetype": "text/x-python",
   "name": "python",
   "nbconvert_exporter": "python",
   "pygments_lexer": "ipython3",
   "version": "3.8.5"
  }
 },
 "nbformat": 4,
 "nbformat_minor": 2
}

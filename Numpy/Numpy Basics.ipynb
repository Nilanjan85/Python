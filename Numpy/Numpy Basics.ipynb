{
 "cells": [
  {
   "cell_type": "code",
   "execution_count": 80,
   "metadata": {},
   "outputs": [
    {
     "name": "stdout",
     "output_type": "stream",
     "text": [
      "[[1 2 3 4 5 8]\n",
      " [2 3 4 5 6 2]\n",
      " [9 7 5 0 3 5]]\n",
      "[1 2 3 4 5]\n"
     ]
    },
    {
     "data": {
      "text/plain": [
       "array([1, 2])"
      ]
     },
     "execution_count": 80,
     "metadata": {},
     "output_type": "execute_result"
    }
   ],
   "source": [
    "import numpy as np\n",
    "\n",
    "# Constructing numpy array from list\n",
    "\n",
    "list1 = [1,2,3,4,5,8]\n",
    "list2 = [2,3,4,5,6,2]\n",
    "list3 = [9,7,5,0,3,5]\n",
    "\n",
    "arr1 = np.array([list1,list2,list3])\n",
    "print(arr1)\n",
    "arr = np.array([1,2,3,4,5])\n",
    "print(arr)\n",
    "\n",
    "# conditional \n",
    "\n",
    "arr[arr<3]"
   ]
  },
  {
   "cell_type": "code",
   "execution_count": 95,
   "metadata": {},
   "outputs": [
    {
     "name": "stdout",
     "output_type": "stream",
     "text": [
      "Dim of array arr 1 and arr1 2\n",
      " shape of the array (3, 6)\n",
      "size of array 18\n",
      "reshaoe array to 6X3  [[1 2 3]\n",
      " [4 5 8]\n",
      " [2 3 4]\n",
      " [5 6 2]\n",
      " [9 7 5]\n",
      " [0 3 5]]\n",
      "Original shape : (2, 2)\n",
      "Array : \n",
      " [[1. 1.]\n",
      " [1. 1.]]\n",
      "Shape after flatten : (4,)\n",
      "Array : \n",
      " [1. 1. 1. 1.]\n",
      "Shape after ravel : (4,)\n",
      "Array : \n",
      " [1. 1. 1. 1.]\n",
      "\n",
      " original array \n",
      " [[1 2 3 4 5 8]\n",
      " [2 3 4 5 6 2]\n",
      " [9 7 5 0 3 5]] and \n",
      " transpose is \n",
      " [[1 2 9]\n",
      " [2 3 7]\n",
      " [3 4 5]\n",
      " [4 5 0]\n",
      " [5 6 3]\n",
      " [8 2 5]]\n"
     ]
    }
   ],
   "source": [
    "## The Shape and Reshaping of NumPy Array\n",
    "#NumPy Attributes\n",
    "#1. ndim - Number of dimensions.\n",
    "#2. shape - The size of each dimension.\n",
    "#3. size - The total size of the array.\n",
    "#4. dtype - The data type of array elements.\n",
    "#5. itemsize - Byte size of each array element.\n",
    "#6. nbytes - Total size of the array. It is equal to itemsize times size.\n",
    "\n",
    "#Dimensions of NumPy array\n",
    "print('Dim of array arr {} and arr1 {}'.format(arr.ndim,arr1.ndim))\n",
    "\n",
    "#Shape of NumPy array\n",
    "print(' shape of the array',arr1.shape)\n",
    "#Size of NumPy array\n",
    "\n",
    "print('size of array',arr1.size)\n",
    "\n",
    "#Reshape the array \n",
    "print('reshaoe array to 6X3 ',arr1.reshape(6,3))\n",
    "\n",
    "# Flattening a NumPy array\n",
    "\n",
    "a = np.ones((2,2))\n",
    "b = a.flatten()\n",
    "c = a.ravel()\n",
    "print('Original shape :', a.shape)\n",
    "print('Array :','\\n', a)\n",
    "print('Shape after flatten :',b.shape)\n",
    "print('Array :','\\n', b)\n",
    "print('Shape after ravel :',c.shape)\n",
    "print('Array :','\\n', c)\n",
    "\n",
    "# Transpose of a NumPy array\n",
    "print('\\n original array \\n {} and \\n transpose is \\n {}'.format(arr1,arr1.T))\n"
   ]
  },
  {
   "cell_type": "code",
   "execution_count": null,
   "metadata": {},
   "outputs": [],
   "source": [
    "# Array Slicing\n",
    "\n",
    "# 1d\n",
    "\n",
    "# Nd\n",
    "\n",
    "a=np.array( [[2,3,5,8,7],\n",
    "             [4,1,0,9,6],\n",
    "             [6,3,4,0,6]] )\n",
    "\n",
    "# 2 rows 3 columns\n",
    "a[ :2, :3]\n",
    "# 3 rows 2 columns\n",
    "a[ :3, :2]\n"
   ]
  },
  {
   "cell_type": "code",
   "execution_count": 73,
   "metadata": {},
   "outputs": [
    {
     "name": "stdout",
     "output_type": "stream",
     "text": [
      "arr3 [[1 2 3]\n",
      " [4 5 8]]\n",
      "\n",
      " arr4[[2 3 4]\n",
      " [5 6 2]]\n",
      "\n",
      " New array appended vertically [[1 2 3 2 3 4]\n",
      " [4 5 8 5 6 2]]\n",
      "\n",
      " New array appended horizontally [[1 2 3]\n",
      " [4 5 8]\n",
      " [2 3 4]\n",
      " [5 6 2]]\n",
      "\n",
      " New array appended vertically vstack [[1 2 3]\n",
      " [4 5 8]\n",
      " [2 3 4]\n",
      " [5 6 2]]\n",
      "\n",
      " New array appended vertically hstack [[1 2 3 2 3 4]\n",
      " [4 5 8 5 6 2]]\n",
      "Split  [1 2 3] [99 99] [3 2 1]\n",
      "[[ 0  1  2  3]\n",
      " [ 4  5  6  7]\n",
      " [ 8  9 10 11]\n",
      " [12 13 14 15]]\n",
      "Upper [[0 1 2 3]\n",
      " [4 5 6 7]]\n",
      "lower [[ 8  9 10 11]\n",
      " [12 13 14 15]]\n",
      "left  [[ 0  1]\n",
      " [ 4  5]\n",
      " [ 8  9]\n",
      " [12 13]]\n",
      "right  [[ 2  3]\n",
      " [ 6  7]\n",
      " [10 11]\n",
      " [14 15]]\n",
      "split vertically  [array([[ 0,  1],\n",
      "       [ 4,  5],\n",
      "       [ 8,  9],\n",
      "       [12, 13]]), array([[ 2,  3],\n",
      "       [ 6,  7],\n",
      "       [10, 11],\n",
      "       [14, 15]])]\n",
      "split horizontally  [array([[0, 1, 2, 3],\n",
      "       [4, 5, 6, 7]]), array([[ 8,  9, 10, 11],\n",
      "       [12, 13, 14, 15]])]\n"
     ]
    }
   ],
   "source": [
    "## appending/concateneting and spliting numpy array \n",
    "\n",
    "# Appending data to numpy 1d\n",
    "\n",
    "arr1 = np.array(list1)\n",
    "arr2 = np.array(list2)\n",
    "\n",
    "##adding it horizontally\n",
    "np.append(arr1,arr2)\n",
    "\n",
    "# Appending numpy array nd\n",
    "\n",
    "arr3 = np.array(list1).reshape(2,3)\n",
    "print('arr3 '+str(arr3))\n",
    "arr4 = np.array(list2).reshape(2,3)\n",
    "print('\\n arr4'+str(arr4))\n",
    "\n",
    "## adding it vertically\n",
    "print('\\n New array appended vertically '+str(np.append(arr3,arr4,axis=1)))\n",
    "\n",
    "## adding it horizontally\n",
    "print('\\n New array appended horizontally '+str(np.append(arr3,arr4,axis=0)))\n",
    "\n",
    "\n",
    "## adding it vertically with vstack\n",
    "print('\\n New array appended vertically vstack '+str(np.vstack((arr3,arr4))))\n",
    "\n",
    "## adding it vertically with hstack\n",
    "print('\\n New array appended vertically hstack '+str(np.hstack((arr3,arr4))))\n",
    "\n",
    "## Splitting data in numpy numpy array\n",
    "\n",
    "# 1d\n",
    "x= [1,2,3,99,99,3,2,1]\n",
    "\n",
    "x1, x2, x3 = np.split(x,[3,5])\n",
    "print('Split ',x1,x2,x3)\n",
    "\n",
    "# nd\n",
    "a=np.arange(16).reshape((4,4))\n",
    "print(a)\n",
    "\n",
    "upper,lower =np.vsplit(a,[2])\n",
    "print('Upper',upper)\n",
    "print('lower',lower)\n",
    "\n",
    "left, right = np.hsplit(a,[2])\n",
    "print('left ',left)\n",
    "print('right ',right)\n",
    "\n",
    "a2 = np.split(a,2,1)\n",
    "print('split vertically ',a2)\n",
    "a3 = np.split(a,2,0)\n",
    "print('split horizontally ',a3)"
   ]
  },
  {
   "cell_type": "code",
   "execution_count": 62,
   "metadata": {},
   "outputs": [
    {
     "name": "stdout",
     "output_type": "stream",
     "text": [
      "Memory location of the original array 3014405269744\n",
      "Memory location of the copied array 3014405269744\n",
      "Print values of the original array [12  4  6  8 10]\n",
      "Print values of the copied array [12  4  6  8 10]\n",
      "Memory location of the original array 3014405269744\n",
      "Memory location of the copied array 3014404765456\n",
      "Print values of the original array [12 18  6  8 10]\n",
      "Print values of the copied array [12 18  6  8 10]\n",
      "Copy --Memory location of the original array 3014405269744\n",
      "Copy --Memory location of the copied array 3014405204688\n",
      "Copy --Print values of the original array [12 18  6  8 10]\n",
      "Copy --Print values of the copied array [12 18  5  8 10]\n"
     ]
    }
   ],
   "source": [
    "# Cpoying numpy array \n",
    "## There are 3 ways to copy a array to another array. 1) View 2) copy 3) assingment \n",
    "## 1. In View it create two array with different memory loc but change in themain array will change the copy \n",
    "## 2. In copy a separate copy of the array will be created and nay change to any element will no change the copy. (Deep copy)\n",
    "## 3. In general for assingment the smae memory location is accessed so called shallow copy.\n",
    "arr = np.array([2, 4, 6, 8, 10]) \n",
    "\n",
    "#1. Assigment \n",
    "\n",
    "nc = arr\n",
    "nc[0] = 12\n",
    "print('Memory location of the original array',id(arr))\n",
    "print('Memory location of the copied array',id(nc))\n",
    "\n",
    "print('Print values of the original array',arr)\n",
    "print('Print values of the copied array',arr)\n",
    "\n",
    "#2. View \n",
    "\n",
    "view1 = arr.view()\n",
    "view1[1] = 18 \n",
    "\n",
    "print('Memory location of the original array',id(arr))\n",
    "print('Memory location of the copied array',id(view1))\n",
    "\n",
    "print('Print values of the original array',arr)\n",
    "print('Print values of the copied array',view1)\n",
    "\n",
    "#2. Copy\n",
    "\n",
    "c = arr.copy() \n",
    "\n",
    "c[2] = 5\n",
    " \n",
    "print('Copy --Memory location of the original array',id(arr))\n",
    "print('Copy --Memory location of the copied array',id(c))\n",
    "print('Copy --Print values of the original array',arr)\n",
    "print('Copy --Print values of the copied array',c)\n"
   ]
  },
  {
   "cell_type": "code",
   "execution_count": null,
   "metadata": {},
   "outputs": [],
   "source": [
    "# Sorting in NumPy Arrays"
   ]
  },
  {
   "cell_type": "code",
   "execution_count": 78,
   "metadata": {},
   "outputs": [
    {
     "name": "stdout",
     "output_type": "stream",
     "text": [
      "Identity Integer matrix  [[1 0 0]\n",
      " [0 1 0]\n",
      " [0 0 1]]\n",
      "Identity Float matrix  [[1. 0. 0.]\n",
      " [0. 1. 0.]\n",
      " [0. 0. 1.]]\n"
     ]
    }
   ],
   "source": [
    "# Printing Identity Matrix\n",
    "\n",
    "print('Identity Integer matrix ',np.eye(3,3,dtype=int))\n",
    "\n",
    "print('Identity Float matrix ',np.eye(3,3))\n"
   ]
  },
  {
   "cell_type": "code",
   "execution_count": 83,
   "metadata": {},
   "outputs": [
    {
     "data": {
      "text/plain": [
       "array([[1, 1],\n",
       "       [1, 1],\n",
       "       [1, 1]])"
      ]
     },
     "execution_count": 83,
     "metadata": {},
     "output_type": "execute_result"
    }
   ],
   "source": [
    "#Printing an array filled with zeros and ones\n",
    "\n",
    "np.zeros(3,dtype=int)\n",
    "\n",
    "np.ones((3,2),dtype=int)"
   ]
  },
  {
   "cell_type": "code",
   "execution_count": null,
   "metadata": {},
   "outputs": [],
   "source": [
    "#Finding the max, min and sum of an array:\n",
    "#Finding the mean, median, variance and standard deviation of an array: In different axis"
   ]
  },
  {
   "cell_type": "code",
   "execution_count": null,
   "metadata": {},
   "outputs": [],
   "source": [
    "#Broadcasting in Numpy Arrays"
   ]
  },
  {
   "cell_type": "code",
   "execution_count": null,
   "metadata": {},
   "outputs": [],
   "source": [
    "# NumPy Ufuncs"
   ]
  }
 ],
 "metadata": {
  "kernelspec": {
   "display_name": "Python 3",
   "language": "python",
   "name": "python3"
  },
  "language_info": {
   "codemirror_mode": {
    "name": "ipython",
    "version": 3
   },
   "file_extension": ".py",
   "mimetype": "text/x-python",
   "name": "python",
   "nbconvert_exporter": "python",
   "pygments_lexer": "ipython3",
   "version": "3.7.4"
  }
 },
 "nbformat": 4,
 "nbformat_minor": 2
}

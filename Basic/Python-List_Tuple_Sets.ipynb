{
 "cells": [
  {
   "cell_type": "code",
   "execution_count": 21,
   "metadata": {},
   "outputs": [
    {
     "name": "stdout",
     "output_type": "stream",
     "text": [
      "['ComSci', 'Maths', 'Physics', 'Chemistry']\n",
      "The length of the list 4\n",
      "['ComSci', 'Maths']\n",
      "Chemistry\n",
      "<class 'list'>\n",
      "['ComSci', 'Maths', 'Physics', 'Chemistry', 'Arts']\n",
      "['ComSci', 'History', 'Maths', 'Physics', 'Chemistry', 'Arts']\n",
      "The element is added as a list  ['ComSci', 'Maths', 'Physics', 'Chemistry', ['Biology', 'English']]\n",
      "List added properly ['ComSci', 'History', 'Maths', 'Physics', 'Chemistry', 'Arts', 'Biology', 'English']\n"
     ]
    }
   ],
   "source": [
    "# List \n",
    "\n",
    "# Create a list\n",
    "\n",
    "subject = [\"ComSci\",\"Maths\",\"Physics\",\"Chemistry\"]\n",
    "print(subject)\n",
    "\n",
    "print(\"The length of the list\",len(subject))\n",
    "# Getting elements from List \n",
    "print(subject[0:2])\n",
    "print(subject[-1])\n",
    "\n",
    "print(type(subject[0:2]))\n",
    "\n",
    "# Add elemets to a list. To append, insert(at a specific index, extends to add a list to another list).\n",
    "\n",
    "## Append elemets to a list \n",
    "\n",
    "subject.append(\"Arts\")\n",
    "print(subject) # the element is added to the end of the list.\n",
    "\n",
    "# Insert. Add at a specific index \n",
    "subject.insert(1,\"History\") # insert at the index point of 1 \n",
    "print(subject) \n",
    "\n",
    "# Extends.Add a list to another list.\n",
    "elective = [\"Biology\",\"English\"]\n",
    "\n",
    "subject1 = [\"ComSci\",\"Maths\",\"Physics\",\"Chemistry\"]\n",
    "subject1.append(elective)\n",
    "print(\"The element is added as a list \",subject1) # Added as a list to the existing list.\n",
    "\n",
    "subject.extend(elective)\n",
    "print(\"List added properly\",subject)"
   ]
  },
  {
   "cell_type": "code",
   "execution_count": 24,
   "metadata": {},
   "outputs": [
    {
     "data": {
      "text/plain": [
       "['ComSci', 'History', 'Maths', 'Physics', 'Chemistry', 'Biology', 'English']"
      ]
     },
     "execution_count": 24,
     "metadata": {},
     "output_type": "execute_result"
    }
   ],
   "source": [
    "# Remove elements from the list.\n",
    "\n",
    "subject.remove(\"Arts\")\n",
    "subject"
   ]
  },
  {
   "cell_type": "code",
   "execution_count": 25,
   "metadata": {},
   "outputs": [
    {
     "data": {
      "text/plain": [
       "'English'"
      ]
     },
     "execution_count": 25,
     "metadata": {},
     "output_type": "execute_result"
    }
   ],
   "source": [
    "subject.pop() # the last element is displayed."
   ]
  },
  {
   "cell_type": "code",
   "execution_count": 32,
   "metadata": {},
   "outputs": [
    {
     "data": {
      "text/plain": [
       "['Physics', 'Maths', 'History', 'ComSci', 'Chemistry', 'Biology']"
      ]
     },
     "execution_count": 32,
     "metadata": {},
     "output_type": "execute_result"
    }
   ],
   "source": [
    "# Reverse a list \n",
    "subject.reverse()\n",
    "subject"
   ]
  },
  {
   "cell_type": "code",
   "execution_count": 34,
   "metadata": {},
   "outputs": [
    {
     "name": "stdout",
     "output_type": "stream",
     "text": [
      "['Biology', 'Chemistry', 'ComSci', 'History', 'Maths', 'Physics']\n"
     ]
    }
   ],
   "source": [
    "# Sorting a list\n",
    "subject.sort()\n",
    "print(subject)"
   ]
  },
  {
   "cell_type": "code",
   "execution_count": 41,
   "metadata": {},
   "outputs": [
    {
     "data": {
      "text/plain": [
       "['Biology', 'Chemistry', 'ComSci', 'History', 'Maths', 'Physics']"
      ]
     },
     "execution_count": 41,
     "metadata": {},
     "output_type": "execute_result"
    }
   ],
   "source": [
    "#Sorted\n",
    "\n",
    "sorted_sub = sorted(subject)\n",
    "sorted_sub"
   ]
  },
  {
   "cell_type": "code",
   "execution_count": 38,
   "metadata": {},
   "outputs": [
    {
     "name": "stdout",
     "output_type": "stream",
     "text": [
      "The sum will be  25\n",
      "The min number  2\n"
     ]
    }
   ],
   "source": [
    "# Using function such as sum and mix\n",
    "num = [2,4,6,8,5]\n",
    "print(\"The sum will be \",sum(num))\n",
    "\n",
    "print(\"The min number \",min(num))"
   ]
  },
  {
   "cell_type": "code",
   "execution_count": 42,
   "metadata": {},
   "outputs": [
    {
     "data": {
      "text/plain": [
       "0"
      ]
     },
     "execution_count": 42,
     "metadata": {},
     "output_type": "execute_result"
    }
   ],
   "source": [
    "# Index of the list \n",
    "\n",
    "subject.index(\"Biology\")"
   ]
  },
  {
   "cell_type": "code",
   "execution_count": 44,
   "metadata": {},
   "outputs": [
    {
     "name": "stdout",
     "output_type": "stream",
     "text": [
      "False\n",
      "True\n"
     ]
    }
   ],
   "source": [
    "# in operator in list \n",
    "\n",
    "print(\"Arts\" in subject)\n",
    "print(\"Maths\" in subject)"
   ]
  },
  {
   "cell_type": "code",
   "execution_count": 46,
   "metadata": {},
   "outputs": [
    {
     "name": "stdout",
     "output_type": "stream",
     "text": [
      "Biology\n",
      "Chemistry\n",
      "ComSci\n",
      "History\n",
      "Maths\n",
      "Physics\n"
     ]
    }
   ],
   "source": [
    "for item in subject:\n",
    "    print(item)"
   ]
  },
  {
   "cell_type": "code",
   "execution_count": 47,
   "metadata": {},
   "outputs": [
    {
     "name": "stdout",
     "output_type": "stream",
     "text": [
      "The index  0\n",
      "The value  Biology\n",
      "The index  1\n",
      "The value  Chemistry\n",
      "The index  2\n",
      "The value  ComSci\n",
      "The index  3\n",
      "The value  History\n",
      "The index  4\n",
      "The value  Maths\n",
      "The index  5\n",
      "The value  Physics\n"
     ]
    }
   ],
   "source": [
    "for index,value in enumerate(subject):\n",
    "    print(\"The index \",index)\n",
    "    print(\"The value \",value)"
   ]
  },
  {
   "cell_type": "code",
   "execution_count": 57,
   "metadata": {},
   "outputs": [
    {
     "name": "stdout",
     "output_type": "stream",
     "text": [
      "Biology , Chemistry , ComSci , History , Maths , Physics\n",
      "['Biology', 'Chemistry', 'ComSci', 'History', 'Maths', 'Physics']\n"
     ]
    }
   ],
   "source": [
    "# Print the list as a string \n",
    "\n",
    "sub_text = \" , \".join(subject)\n",
    "\n",
    "print(sub_text)\n",
    "\n",
    "new_lst = sub_text.split(\" , \")\n",
    "print(new_lst)"
   ]
  },
  {
   "cell_type": "code",
   "execution_count": 67,
   "metadata": {},
   "outputs": [
    {
     "name": "stdout",
     "output_type": "stream",
     "text": [
      "Sets displayed as  {'Maths', 'Biology', 'Physics', 'ComSci', 'History', 'Chemistry'}\n",
      "Set1  displayed as  {'History', 'Maths', 'Arts', 'Chemistry'}\n",
      "Intersection result {'Maths', 'History', 'Chemistry'}\n",
      "Substraction result {'ComSci', 'Physics', 'Biology'}\n",
      "Union result {'Arts', 'Maths', 'Biology', 'Physics', 'ComSci', 'History', 'Chemistry'}\n",
      "{'World', 'Hello', 'Comment'}\n"
     ]
    }
   ],
   "source": [
    "#Sets\n",
    "\n",
    "set_sub = {'Biology', 'Chemistry', 'ComSci', 'History', 'Maths', 'Physics'}\n",
    "print(\"Sets displayed as \",set_sub)\n",
    "\n",
    "\n",
    "set_sub1 = {'Chemistry','Maths','Arts','History'}\n",
    "print(\"Set1  displayed as \",set_sub1)\n",
    "\n",
    "print('Intersection result',set_sub.intersection(set_sub1))\n",
    "\n",
    "print('Substraction result',set_sub.difference(set_sub1))\n",
    "\n",
    "print('Union result',set_sub.union(set_sub1))\n",
    "\n",
    "# Duplicate values removal \n",
    "\n",
    "lst = [\"Hello\",\"World\",\"Comment\",\"Hello\"]\n",
    "\n",
    "uniq = set(lst)\n",
    "\n",
    "print(uniq)"
   ]
  },
  {
   "cell_type": "code",
   "execution_count": 60,
   "metadata": {},
   "outputs": [
    {
     "name": "stdout",
     "output_type": "stream",
     "text": [
      "tuple ('Biology', 'Chemistry', 'ComSci', 'History', 'Maths', 'Physics')\n"
     ]
    },
    {
     "ename": "TypeError",
     "evalue": "'tuple' object does not support item assignment",
     "output_type": "error",
     "traceback": [
      "\u001b[1;31m---------------------------------------------------------------------------\u001b[0m",
      "\u001b[1;31mTypeError\u001b[0m                                 Traceback (most recent call last)",
      "\u001b[1;32m<ipython-input-60-7cf2c29929cb>\u001b[0m in \u001b[0;36m<module>\u001b[1;34m\u001b[0m\n\u001b[0;32m      5\u001b[0m \u001b[0mprint\u001b[0m\u001b[1;33m(\u001b[0m\u001b[1;34m\"tuple\"\u001b[0m\u001b[1;33m,\u001b[0m\u001b[0msub\u001b[0m\u001b[1;33m)\u001b[0m\u001b[1;33m\u001b[0m\u001b[1;33m\u001b[0m\u001b[0m\n\u001b[0;32m      6\u001b[0m \u001b[1;33m\u001b[0m\u001b[0m\n\u001b[1;32m----> 7\u001b[1;33m \u001b[0msub\u001b[0m\u001b[1;33m[\u001b[0m\u001b[1;36m0\u001b[0m\u001b[1;33m]\u001b[0m \u001b[1;33m=\u001b[0m\u001b[1;34m\"Arts\"\u001b[0m\u001b[1;33m\u001b[0m\u001b[1;33m\u001b[0m\u001b[0m\n\u001b[0m",
      "\u001b[1;31mTypeError\u001b[0m: 'tuple' object does not support item assignment"
     ]
    }
   ],
   "source": [
    "# Tuple. This is a mutable data structure. \n",
    "\n",
    "sub = ('Biology', 'Chemistry', 'ComSci', 'History', 'Maths', 'Physics')\n",
    "\n",
    "print(\"tuple\",sub)\n",
    "\n",
    "sub[0] =\"Arts\""
   ]
  },
  {
   "cell_type": "code",
   "execution_count": 58,
   "metadata": {},
   "outputs": [],
   "source": [
    "# Define blank List, Set and Tuple \n",
    "\n",
    "lst = []\n",
    "lst1 = list()\n",
    "\n",
    "#set1 = {}  this way set is not defined defined as Dictionary is defined in this way \n",
    "set1 = set()\n",
    "\n",
    "tup = ()\n",
    "tup1 = tuple()"
   ]
  }
 ],
 "metadata": {
  "kernelspec": {
   "display_name": "Python 3",
   "language": "python",
   "name": "python3"
  },
  "language_info": {
   "codemirror_mode": {
    "name": "ipython",
    "version": 3
   },
   "file_extension": ".py",
   "mimetype": "text/x-python",
   "name": "python",
   "nbconvert_exporter": "python",
   "pygments_lexer": "ipython3",
   "version": "3.8.5"
  }
 },
 "nbformat": 4,
 "nbformat_minor": 4
}

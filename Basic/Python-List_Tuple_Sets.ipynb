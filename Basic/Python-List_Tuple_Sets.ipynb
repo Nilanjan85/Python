{
 "cells": [
  {
   "cell_type": "code",
   "execution_count": 21,
   "metadata": {},
   "outputs": [
    {
     "name": "stdout",
     "output_type": "stream",
     "text": [
      "['ComSci', 'Maths', 'Physics', 'Chemistry']\n",
      "The length of the list 4\n",
      "['ComSci', 'Maths']\n",
      "Chemistry\n",
      "<class 'list'>\n",
      "['ComSci', 'Maths', 'Physics', 'Chemistry', 'Arts']\n",
      "['ComSci', 'History', 'Maths', 'Physics', 'Chemistry', 'Arts']\n",
      "The element is added as a list  ['ComSci', 'Maths', 'Physics', 'Chemistry', ['Biology', 'English']]\n",
      "List added properly ['ComSci', 'History', 'Maths', 'Physics', 'Chemistry', 'Arts', 'Biology', 'English']\n"
     ]
    }
   ],
   "source": [
    "# List \n",
    "\n",
    "# Create a list\n",
    "\n",
    "subject = [\"ComSci\",\"Maths\",\"Physics\",\"Chemistry\"]\n",
    "print(subject)\n",
    "\n",
    "print(\"The length of the list\",len(subject))\n",
    "# Getting elements from List \n",
    "print(subject[0:2])\n",
    "print(subject[-1])\n",
    "\n",
    "print(type(subject[0:2]))\n",
    "\n",
    "# Add elemets to a list. To append, insert(at a specific index, extends to add a list to another list).\n",
    "\n",
    "## Append elemets to a list \n",
    "\n",
    "subject.append(\"Arts\")\n",
    "print(subject) # the element is added to the end of the list.\n",
    "\n",
    "# Insert. Add at a specific index \n",
    "subject.insert(1,\"History\") # insert at the index point of 1 \n",
    "print(subject) \n",
    "\n",
    "# Extends.Add a list to another list.\n",
    "elective = [\"Biology\",\"English\"]\n",
    "\n",
    "subject1 = [\"ComSci\",\"Maths\",\"Physics\",\"Chemistry\"]\n",
    "subject1.append(elective)\n",
    "print(\"The element is added as a list \",subject1) # Added as a list to the existing list.\n",
    "\n",
    "subject.extend(elective)\n",
    "print(\"List added properly\",subject)"
   ]
  }
 ],
 "metadata": {
  "kernelspec": {
   "display_name": "Python 3",
   "language": "python",
   "name": "python3"
  },
  "language_info": {
   "codemirror_mode": {
    "name": "ipython",
    "version": 3
   },
   "file_extension": ".py",
   "mimetype": "text/x-python",
   "name": "python",
   "nbconvert_exporter": "python",
   "pygments_lexer": "ipython3",
   "version": "3.8.5"
  }
 },
 "nbformat": 4,
 "nbformat_minor": 4
}

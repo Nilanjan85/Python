{
 "cells": [
  {
   "cell_type": "code",
   "execution_count": 18,
   "metadata": {},
   "outputs": [
    {
     "name": "stdout",
     "output_type": "stream",
     "text": [
      "Total Instance 2\n",
      "Fisrt name ob1 N\n",
      "Full Name  N , C\n",
      " Test , User\n",
      "Before incr 14000\n",
      "After incr 14560\n",
      "{'fname': 'N', 'lname': 'C', 'pay': 14560, 'emal': 'N.C@comp.com'}\n",
      "class dictionary details {'__module__': '__main__', 'raise_amt': 1.04, 'instance_count': 2, '__init__': <function employee.__init__ at 0x0000016AC0871280>, 'fullName': <function employee.fullName at 0x0000016AC0871040>, 'raisePay': <function employee.raisePay at 0x0000016AC0871A60>, '__dict__': <attribute '__dict__' of 'employee' objects>, '__weakref__': <attribute '__weakref__' of 'employee' objects>, '__doc__': None}\n"
     ]
    }
   ],
   "source": [
    "# Using Python Class Variables. \n",
    "class employee:\n",
    "    \n",
    "    raise_amt = 1.04\n",
    "    \n",
    "    instance_count = 0\n",
    "    \n",
    "    def __init__(self,fname,lname,pay):\n",
    "        self.fname = fname\n",
    "        self.lname = lname\n",
    "        self.pay = pay\n",
    "        self.emal = fname+'.'+lname+'@comp.com'\n",
    "        employee.instance_count +=1 \n",
    "        \n",
    "    def fullName(self):\n",
    "        return ' {0} , {1}'.format(self.fname,self.lname)\n",
    "    \n",
    "    def raisePay(self):\n",
    "        self.pay = int(self.raise_amt * self.pay)\n",
    "    \n",
    "ob1 = employee('N','C',14000)\n",
    "ob2 = employee('Test','User',16000)\n",
    "\n",
    "print('Total Instance',employee.instance_count)\n",
    "    \n",
    "print('Fisrt name ob1',ob1.fname)\n",
    "\n",
    "print('Full Name',ob1.fullName())\n",
    "\n",
    "print(employee.fullName(ob2))\n",
    "\n",
    "print('Before incr',ob1.pay)\n",
    "ob1.raisePay()\n",
    "print('After incr',ob1.pay)\n",
    "\n",
    "### Object and calsss namespace\n",
    "\n",
    "print(ob1.__dict__)\n",
    "print('class dictionary details',employee.__dict__)"
   ]
  },
  {
   "cell_type": "code",
   "execution_count": 16,
   "metadata": {},
   "outputs": [
    {
     "name": "stdout",
     "output_type": "stream",
     "text": [
      "1.05\n",
      "1.05\n",
      "1.05\n"
     ]
    }
   ],
   "source": [
    "employee.raise_amt = 1.05\n",
    "\n",
    "print(employee.raise_amt)\n",
    "print(ob1.raise_amt)\n",
    "print(ob2.raise_amt)"
   ]
  },
  {
   "cell_type": "code",
   "execution_count": 19,
   "metadata": {},
   "outputs": [
    {
     "name": "stdout",
     "output_type": "stream",
     "text": [
      "1.04\n",
      "1.05\n",
      "1.04\n"
     ]
    }
   ],
   "source": [
    "ob1.raise_amt = 1.05\n",
    "print(employee.raise_amt)\n",
    "print(ob1.raise_amt)\n",
    "print(ob2.raise_amt)"
   ]
  },
  {
   "cell_type": "code",
   "execution_count": null,
   "metadata": {},
   "outputs": [],
   "source": []
  }
 ],
 "metadata": {
  "kernelspec": {
   "display_name": "Python 3",
   "language": "python",
   "name": "python3"
  },
  "language_info": {
   "codemirror_mode": {
    "name": "ipython",
    "version": 3
   },
   "file_extension": ".py",
   "mimetype": "text/x-python",
   "name": "python",
   "nbconvert_exporter": "python",
   "pygments_lexer": "ipython3",
   "version": "3.8.5"
  }
 },
 "nbformat": 4,
 "nbformat_minor": 4
}

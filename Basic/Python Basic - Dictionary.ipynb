{
 "cells": [
  {
   "cell_type": "code",
   "execution_count": 2,
   "metadata": {},
   "outputs": [
    {
     "data": {
      "text/plain": [
       "{'name': 'Ram', 'age': 15, 'subject': ['Maths', 'Physics']}"
      ]
     },
     "execution_count": 2,
     "metadata": {},
     "output_type": "execute_result"
    }
   ],
   "source": [
    "student = {\"name\":\"Ram\",\"age\":15,\"subject\":[\"Maths\",\"Physics\"]}\n",
    "student"
   ]
  },
  {
   "cell_type": "code",
   "execution_count": 4,
   "metadata": {},
   "outputs": [
    {
     "name": "stdout",
     "output_type": "stream",
     "text": [
      "Ram\n",
      "['Maths', 'Physics']\n"
     ]
    }
   ],
   "source": [
    "print(student[\"name\"])\n",
    "print(student[\"subject\"])"
   ]
  },
  {
   "cell_type": "code",
   "execution_count": 5,
   "metadata": {},
   "outputs": [
    {
     "data": {
      "text/plain": [
       "'Ram'"
      ]
     },
     "execution_count": 5,
     "metadata": {},
     "output_type": "execute_result"
    }
   ],
   "source": [
    "# Dictionary of numeric keys \n",
    "\n",
    "students_num = {1:\"Ram\",\"age\":15,\"subject\":[\"Maths\",\"Physics\"]}\n",
    "students_num[1]"
   ]
  },
  {
   "cell_type": "code",
   "execution_count": 8,
   "metadata": {},
   "outputs": [
    {
     "name": "stdout",
     "output_type": "stream",
     "text": [
      "Ram\n"
     ]
    },
    {
     "ename": "KeyError",
     "evalue": "'phone'",
     "output_type": "error",
     "traceback": [
      "\u001b[1;31m---------------------------------------------------------------------------\u001b[0m",
      "\u001b[1;31mKeyError\u001b[0m                                  Traceback (most recent call last)",
      "\u001b[1;32m<ipython-input-8-4f0b43bd4ab6>\u001b[0m in \u001b[0;36m<module>\u001b[1;34m\u001b[0m\n\u001b[0;32m      2\u001b[0m \u001b[0mprint\u001b[0m\u001b[1;33m(\u001b[0m\u001b[0mstudent\u001b[0m\u001b[1;33m.\u001b[0m\u001b[0mget\u001b[0m\u001b[1;33m(\u001b[0m\u001b[1;34m\"name\"\u001b[0m\u001b[1;33m)\u001b[0m\u001b[1;33m)\u001b[0m\u001b[1;33m\u001b[0m\u001b[1;33m\u001b[0m\u001b[0m\n\u001b[0;32m      3\u001b[0m \u001b[1;33m\u001b[0m\u001b[0m\n\u001b[1;32m----> 4\u001b[1;33m \u001b[0mprint\u001b[0m\u001b[1;33m(\u001b[0m\u001b[0mstudent\u001b[0m\u001b[1;33m[\u001b[0m\u001b[1;34m\"phone\"\u001b[0m\u001b[1;33m]\u001b[0m\u001b[1;33m)\u001b[0m \u001b[1;31m# Gives error when the value is not present\u001b[0m\u001b[1;33m\u001b[0m\u001b[1;33m\u001b[0m\u001b[0m\n\u001b[0m\u001b[0;32m      5\u001b[0m \u001b[1;33m\u001b[0m\u001b[0m\n\u001b[0;32m      6\u001b[0m \u001b[0mprint\u001b[0m\u001b[1;33m(\u001b[0m\u001b[0mstudent\u001b[0m\u001b[1;33m.\u001b[0m\u001b[0mget\u001b[0m\u001b[1;33m(\u001b[0m\u001b[1;34m\"phone\"\u001b[0m\u001b[1;33m)\u001b[0m\u001b[1;33m)\u001b[0m\u001b[1;33m\u001b[0m\u001b[1;33m\u001b[0m\u001b[0m\n",
      "\u001b[1;31mKeyError\u001b[0m: 'phone'"
     ]
    }
   ],
   "source": [
    "# To get value from dictionay we can use get()\n",
    "print(student.get(\"name\"))\n",
    "\n",
    "print(student[\"phone\"]) # Gives error when the value is not present"
   ]
  },
  {
   "cell_type": "code",
   "execution_count": 10,
   "metadata": {},
   "outputs": [
    {
     "name": "stdout",
     "output_type": "stream",
     "text": [
      "No Value\n"
     ]
    }
   ],
   "source": [
    "print(student.get(\"phone\",\"No Value\")) # This don't give error on no value, a default value can be set"
   ]
  },
  {
   "cell_type": "code",
   "execution_count": 14,
   "metadata": {},
   "outputs": [
    {
     "name": "stdout",
     "output_type": "stream",
     "text": [
      "{'name': 'Ram', 'age': 16, 'subject': ['Maths', 'Physics'], 'phone': '555-555'}\n",
      "{'name': 'Shyam', 'age': 16, 'subject': ['Maths', 'Physics'], 'phone': '555-555'}\n",
      "{'name': 'Ram', 'age': 16, 'subject': ['Maths', 'Physics'], 'phone': '555-555'}\n"
     ]
    }
   ],
   "source": [
    "# update and set new value in dictionary \n",
    "\n",
    "student[\"phone\"] = \"555-555\"\n",
    "print(student)\n",
    "student[\"name\"] = \"Shyam\"\n",
    "print(student)\n",
    "\n",
    "student.update({\"name\":\"Ram\",\"age\":16,\"phone\":\"555-555\"})\n",
    "\n",
    "print(student)"
   ]
  },
  {
   "cell_type": "code",
   "execution_count": 15,
   "metadata": {},
   "outputs": [
    {
     "name": "stdout",
     "output_type": "stream",
     "text": [
      "16\n",
      "{'name': 'Ram', 'subject': ['Maths', 'Physics'], 'phone': '555-555'}\n"
     ]
    }
   ],
   "source": [
    "# delete \n",
    "\n",
    "age = student.pop(\"age\")\n",
    "print(age)\n",
    "print(student)"
   ]
  },
  {
   "cell_type": "code",
   "execution_count": 22,
   "metadata": {},
   "outputs": [
    {
     "name": "stdout",
     "output_type": "stream",
     "text": [
      "3\n",
      "dict_keys(['name', 'subject', 'phone'])\n",
      "dict_values(['Ram', ['Maths', 'Physics'], '555-555'])\n",
      "dict_items([('name', 'Ram'), ('subject', ['Maths', 'Physics']), ('phone', '555-555')])\n"
     ]
    }
   ],
   "source": [
    "# get the keys values \n",
    "\n",
    "print(len(student)) # no of keys in a dictionary\n",
    "\n",
    "# all keys \n",
    "\n",
    "print(student.keys())\n",
    "\n",
    "#all values\n",
    "\n",
    "print(student.values())\n",
    "\n",
    "# All elements \n",
    "\n",
    "print(student.items())\n"
   ]
  },
  {
   "cell_type": "code",
   "execution_count": 23,
   "metadata": {},
   "outputs": [
    {
     "name": "stdout",
     "output_type": "stream",
     "text": [
      "name\n",
      "subject\n",
      "phone\n"
     ]
    }
   ],
   "source": [
    "# loop through the entrire dictionary \n",
    "\n",
    "for key in student:\n",
    "    print(key)"
   ]
  },
  {
   "cell_type": "code",
   "execution_count": 24,
   "metadata": {},
   "outputs": [
    {
     "name": "stdout",
     "output_type": "stream",
     "text": [
      "name Ram\n",
      "subject ['Maths', 'Physics']\n",
      "phone 555-555\n"
     ]
    }
   ],
   "source": [
    "for key,values in student.items():\n",
    "    print(key,values)"
   ]
  }
 ],
 "metadata": {
  "kernelspec": {
   "display_name": "Python 3",
   "language": "python",
   "name": "python3"
  },
  "language_info": {
   "codemirror_mode": {
    "name": "ipython",
    "version": 3
   },
   "file_extension": ".py",
   "mimetype": "text/x-python",
   "name": "python",
   "nbconvert_exporter": "python",
   "pygments_lexer": "ipython3",
   "version": "3.7.4"
  }
 },
 "nbformat": 4,
 "nbformat_minor": 2
}

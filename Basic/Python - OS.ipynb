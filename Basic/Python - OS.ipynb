{
 "cells": [
  {
   "cell_type": "code",
   "execution_count": 2,
   "metadata": {},
   "outputs": [],
   "source": [
    "import os"
   ]
  },
  {
   "cell_type": "code",
   "execution_count": 16,
   "metadata": {},
   "outputs": [],
   "source": [
    "from datetime import datetime"
   ]
  },
  {
   "cell_type": "code",
   "execution_count": 3,
   "metadata": {},
   "outputs": [
    {
     "data": {
      "text/plain": [
       "'C:\\\\Users\\\\sd270\\\\Desktop\\\\WORK\\\\Data Science Practise'"
      ]
     },
     "execution_count": 3,
     "metadata": {},
     "output_type": "execute_result"
    }
   ],
   "source": [
    "os.getcwd() # prints current working dir"
   ]
  },
  {
   "cell_type": "code",
   "execution_count": 5,
   "metadata": {},
   "outputs": [
    {
     "data": {
      "text/plain": [
       "'C:\\\\Users\\\\sd270\\\\Desktop\\\\WORK'"
      ]
     },
     "execution_count": 5,
     "metadata": {},
     "output_type": "execute_result"
    }
   ],
   "source": [
    "os.chdir(\"C:\\\\Users\\\\sd270\\\\Desktop\\\\WORK\") # change dir\n",
    "os.getcwd()"
   ]
  },
  {
   "cell_type": "code",
   "execution_count": 6,
   "metadata": {},
   "outputs": [
    {
     "data": {
      "text/plain": [
       "['Azure Data Engineering DP 203',\n",
       " 'Data Science Practise',\n",
       " 'demo',\n",
       " 'demo1',\n",
       " 'Information',\n",
       " 'Inventory_repository.zip',\n",
       " 'Place.txt',\n",
       " 'Power App',\n",
       " 'Power BI Practise',\n",
       " 'SCM Analytics',\n",
       " 'Spark Scala Practice',\n",
       " 'SSAS Practice',\n",
       " 'SSIS Practise',\n",
       " 'Temp',\n",
       " 'train.csv',\n",
       " 'Wings 2']"
      ]
     },
     "execution_count": 6,
     "metadata": {},
     "output_type": "execute_result"
    }
   ],
   "source": [
    "os.listdir()  #list file in the dir"
   ]
  },
  {
   "cell_type": "code",
   "execution_count": 9,
   "metadata": {},
   "outputs": [],
   "source": [
    "os.mkdir(\"demo\") # creates new dir\n",
    "os.listdir()"
   ]
  },
  {
   "cell_type": "code",
   "execution_count": 11,
   "metadata": {},
   "outputs": [
    {
     "data": {
      "text/plain": [
       "['.ipynb_checkpoints',\n",
       " 'demo',\n",
       " 'Linear Regression House Price.ipynb',\n",
       " 'Numpy Basics.ipynb',\n",
       " 'Pandas Tutorial.ipynb',\n",
       " 'PCA in Python.txt',\n",
       " 'Pyhon_Basics',\n",
       " 'Python - OS.ipynb',\n",
       " 'Python Basic - Dictionary.ipynb',\n",
       " 'Python Basics 3.ipynb',\n",
       " 'python pandas practice.ipynb',\n",
       " 'Real_estate.csv',\n",
       " 'ROC AUC Curve.ipynb',\n",
       " 'Scikit-learn.PNG',\n",
       " 'Telematics_data.csv',\n",
       " 'Telematics_Null_handling.ipynb',\n",
       " 'Telematics_Outlier_Detection.ipynb',\n",
       " 'train.csv',\n",
       " 'X15_1_2017_PCA to Random Forest Using Scikit Learn - Copy.txt',\n",
       " 'X15_1_2017_PCA to Random Forest Using Scikit Learn.ipynb']"
      ]
     },
     "execution_count": 11,
     "metadata": {},
     "output_type": "execute_result"
    }
   ],
   "source": [
    "# Rename a file \n",
    "os.rename('Real estate.csv','Real_estate.csv')\n",
    "os.listdir()"
   ]
  },
  {
   "cell_type": "code",
   "execution_count": 14,
   "metadata": {},
   "outputs": [
    {
     "name": "stdout",
     "output_type": "stream",
     "text": [
      "os.stat_result(st_mode=33206, st_ino=100768041662702250, st_dev=679191990, st_nlink=1, st_uid=0, st_gid=0, st_size=21968, st_atime=1630068593, st_mtime=1621844142, st_ctime=1621844142)\n",
      "Size of the file  - 21968\n"
     ]
    }
   ],
   "source": [
    "# Info about a file\n",
    "print(os.stat('Real_estate.csv'))\n",
    "print(\"Size of the file  -\",os.stat('Real_estate.csv').st_size)"
   ]
  },
  {
   "cell_type": "code",
   "execution_count": 17,
   "metadata": {},
   "outputs": [
    {
     "name": "stdout",
     "output_type": "stream",
     "text": [
      "2021-05-24 13:45:42.887668\n"
     ]
    }
   ],
   "source": [
    "# modification time of a file \n",
    "mod_time = os.stat('Real_estate.csv').st_mtime\n",
    "print(datetime.fromtimestamp(mod_time))\n"
   ]
  },
  {
   "cell_type": "code",
   "execution_count": 21,
   "metadata": {},
   "outputs": [
    {
     "name": "stdout",
     "output_type": "stream",
     "text": [
      "dir path  C:\\Users\\sd270\\Desktop\\WORK\\Data Science Practise\n",
      "filename  ['.ipynb_checkpoints', 'demo', 'Pyhon_Basics']\n",
      "filenames  ['Linear Regression House Price.ipynb', 'Numpy Basics.ipynb', 'Pandas Tutorial.ipynb', 'PCA in Python.txt', 'Python - OS.ipynb', 'Python Basic - Dictionary.ipynb', 'Python Basics 3.ipynb', 'python pandas practice.ipynb', 'Real_estate.csv', 'ROC AUC Curve.ipynb', 'Scikit-learn.PNG', 'Telematics_data.csv', 'Telematics_Null_handling.ipynb', 'Telematics_Outlier_Detection.ipynb', 'train.csv', 'X15_1_2017_PCA to Random Forest Using Scikit Learn - Copy.txt', 'X15_1_2017_PCA to Random Forest Using Scikit Learn.ipynb']\n",
      "dir path  C:\\Users\\sd270\\Desktop\\WORK\\Data Science Practise\\.ipynb_checkpoints\n",
      "filename  []\n",
      "filenames  ['Linear Regression House Price-checkpoint.ipynb', 'Numpy Basics-checkpoint.ipynb', 'Pandas Tutorial-checkpoint.ipynb', 'Python - OS-checkpoint.ipynb', 'Python Basic - Dictionary-checkpoint.ipynb', 'Python Basics 3-checkpoint.ipynb', 'python pandas practice-checkpoint.ipynb', 'ROC AUC Curve-checkpoint.ipynb', 'Telematics_Null_handling-checkpoint.ipynb', 'Telematics_Outlier_Detection-checkpoint.ipynb', 'Untitled1-checkpoint.ipynb']\n",
      "dir path  C:\\Users\\sd270\\Desktop\\WORK\\Data Science Practise\\demo\n",
      "filename  []\n",
      "filenames  []\n",
      "dir path  C:\\Users\\sd270\\Desktop\\WORK\\Data Science Practise\\Pyhon_Basics\n",
      "filename  ['.ipynb_checkpoints']\n",
      "filenames  ['Python Strings.ipynb']\n",
      "dir path  C:\\Users\\sd270\\Desktop\\WORK\\Data Science Practise\\Pyhon_Basics\\.ipynb_checkpoints\n",
      "filename  []\n",
      "filenames  ['Python Strings-checkpoint.ipynb']\n"
     ]
    }
   ],
   "source": [
    "# to see al the directory tree/ structure  \n",
    "for dirpath, dirnames, filenames in os.walk('C:\\\\Users\\\\sd270\\\\Desktop\\\\WORK\\\\Data Science Practise'):\n",
    "    print(\"dir path \",dirpath)\n",
    "    print(\"filename \",dirnames)\n",
    "    print(\"filenames \",filenames)"
   ]
  },
  {
   "cell_type": "code",
   "execution_count": 24,
   "metadata": {},
   "outputs": [
    {
     "name": "stdout",
     "output_type": "stream",
     "text": [
      "None\n"
     ]
    }
   ],
   "source": [
    "# get environment variables \n",
    "print(os.environ.get(\"HOME\"))"
   ]
  },
  {
   "cell_type": "code",
   "execution_count": null,
   "metadata": {},
   "outputs": [],
   "source": [
    "#File import & output"
   ]
  }
 ],
 "metadata": {
  "kernelspec": {
   "display_name": "Python 3",
   "language": "python",
   "name": "python3"
  },
  "language_info": {
   "codemirror_mode": {
    "name": "ipython",
    "version": 3
   },
   "file_extension": ".py",
   "mimetype": "text/x-python",
   "name": "python",
   "nbconvert_exporter": "python",
   "pygments_lexer": "ipython3",
   "version": "3.7.4"
  }
 },
 "nbformat": 4,
 "nbformat_minor": 2
}

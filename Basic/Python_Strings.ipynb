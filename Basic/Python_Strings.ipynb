{
 "cells": [
  {
   "cell_type": "code",
   "execution_count": 3,
   "metadata": {},
   "outputs": [
    {
     "name": "stdout",
     "output_type": "stream",
     "text": [
      "Hello World\n"
     ]
    }
   ],
   "source": [
    "print(\"Hello World\")"
   ]
  },
  {
   "cell_type": "code",
   "execution_count": 4,
   "metadata": {},
   "outputs": [
    {
     "name": "stdout",
     "output_type": "stream",
     "text": [
      "Hello World\n"
     ]
    }
   ],
   "source": [
    "message = \"Hello World\"\n",
    "print(message)"
   ]
  },
  {
   "cell_type": "code",
   "execution_count": 5,
   "metadata": {},
   "outputs": [
    {
     "name": "stdout",
     "output_type": "stream",
     "text": [
      "There are many birds \n",
      "on the sky flying freely\n"
     ]
    }
   ],
   "source": [
    "## multiple lines \n",
    "\n",
    "message = \"\"\"There are many birds \n",
    "on the sky flying freely\"\"\"\n",
    "\n",
    "print(message)"
   ]
  },
  {
   "cell_type": "code",
   "execution_count": 7,
   "metadata": {},
   "outputs": [
    {
     "name": "stdout",
     "output_type": "stream",
     "text": [
      "This is boy's school\n"
     ]
    }
   ],
   "source": [
    "## single quote and double quotes are same. \n",
    "\n",
    "message = \"This is boy's school\"\n",
    "print(message)"
   ]
  },
  {
   "cell_type": "code",
   "execution_count": 8,
   "metadata": {},
   "outputs": [
    {
     "name": "stdout",
     "output_type": "stream",
     "text": [
      "He said \"I willstay here \"\n"
     ]
    }
   ],
   "source": [
    "message = 'He said \"I willstay here \"'\n",
    "print(message)"
   ]
  },
  {
   "cell_type": "code",
   "execution_count": 9,
   "metadata": {},
   "outputs": [
    {
     "name": "stdout",
     "output_type": "stream",
     "text": [
      "Hello, World\n"
     ]
    }
   ],
   "source": [
    "## concat text\n",
    "\n",
    "var1 = \"Hello\"\n",
    "var2 = \"World\"\n",
    "greetings = var1 + \", \"+var2\n",
    "print(greetings)"
   ]
  },
  {
   "cell_type": "code",
   "execution_count": 10,
   "metadata": {},
   "outputs": [
    {
     "name": "stdout",
     "output_type": "stream",
     "text": [
      " Hello, World to Neel\n"
     ]
    }
   ],
   "source": [
    "# format string \n",
    "var1 = \"Hello\"\n",
    "var2 = \"World\"\n",
    "print(\" {}, {} to Neel\".format(var1,var2))"
   ]
  },
  {
   "cell_type": "code",
   "execution_count": 11,
   "metadata": {},
   "outputs": [
    {
     "name": "stdout",
     "output_type": "stream",
     "text": [
      " Hello, World to Neel\n"
     ]
    }
   ],
   "source": [
    "# f string for ver 3.36\n",
    "print(f\" {var1}, {var2} to Neel\")"
   ]
  },
  {
   "cell_type": "code",
   "execution_count": 6,
   "metadata": {},
   "outputs": [
    {
     "name": "stdout",
     "output_type": "stream",
     "text": [
      "6\n",
      "Hello\n",
      "World\n",
      "11\n",
      "Hello Universe\n"
     ]
    }
   ],
   "source": [
    "#find replace len scope operator upper \n",
    "\n",
    "message = \"Hello World\"\n",
    "print(message.find(\"World\"))\n",
    "print(message[0:5])\n",
    "print(message[6:])\n",
    "print(len(message))\n",
    "print(message.replace(\"World\",\"Universe\"))"
   ]
  },
  {
   "cell_type": "code",
   "execution_count": 9,
   "metadata": {},
   "outputs": [
    {
     "name": "stdout",
     "output_type": "stream",
     "text": [
      "1\n",
      "1.5\n",
      "9\n",
      "1\n"
     ]
    }
   ],
   "source": [
    "## Integer computation \n",
    "\n",
    "print(3//2) # Floor division\n",
    "print(3/2) #Division\n",
    "print(3**2)\n",
    "print(3%2)"
   ]
  }
 ],
 "metadata": {
  "kernelspec": {
   "display_name": "Python 3",
   "language": "python",
   "name": "python3"
  },
  "language_info": {
   "codemirror_mode": {
    "name": "ipython",
    "version": 3
   },
   "file_extension": ".py",
   "mimetype": "text/x-python",
   "name": "python",
   "nbconvert_exporter": "python",
   "pygments_lexer": "ipython3",
   "version": "3.8.5"
  }
 },
 "nbformat": 4,
 "nbformat_minor": 2
}

{
 "cells": [
  {
   "cell_type": "code",
   "execution_count": 2,
   "metadata": {},
   "outputs": [],
   "source": [
    "# This is for datetime package to deal with python date time calculations\n",
    "import datetime"
   ]
  },
  {
   "cell_type": "markdown",
   "metadata": {},
   "source": [
    "### Create Date"
   ]
  },
  {
   "cell_type": "code",
   "execution_count": 20,
   "metadata": {},
   "outputs": [
    {
     "name": "stdout",
     "output_type": "stream",
     "text": [
      "2021-08-12\n",
      "2021-08-29\n",
      "29\n",
      "8\n",
      "the weekday of the week 6\n",
      "The ISO weekday of the week 7\n",
      "Date adding timedelta of 5 days  2021-09-03\n",
      "17 days, 0:00:00\n"
     ]
    }
   ],
   "source": [
    "# Date creation\n",
    "\n",
    "dt = datetime.date(2021,8,12)\n",
    "print(dt)\n",
    "\n",
    "# Print today date\n",
    "\n",
    "dt_today = datetime.date.today()\n",
    "print(dt_today)\n",
    "\n",
    "# to get part of the date \n",
    "\n",
    "print(dt_today.day) # day will be printed\n",
    "print(dt_today.month) # month will be printed\n",
    "print(\"the weekday of the week\",dt_today.weekday()) # returns the weekday from the date 0 mon - 6 sun\n",
    "print(\"The ISO weekday of the week\",dt_today.isoweekday()) # returns the ISO weekday from the date 1 mon - 7 sun\n",
    "\n",
    "# delta time calculations \n",
    "\n",
    "delta_t = datetime.timedelta(days=5)\n",
    "print(\"Date adding timedelta of 5 days \",dt_today+delta_t)\n",
    "\n",
    "t_bday = datetime.date(2021,8,12)\n",
    "diff = dt_today - t_bday\n",
    "\n",
    "print(diff)"
   ]
  },
  {
   "cell_type": "markdown",
   "metadata": {},
   "source": [
    "### Create Time "
   ]
  },
  {
   "cell_type": "code",
   "execution_count": 26,
   "metadata": {},
   "outputs": [
    {
     "name": "stdout",
     "output_type": "stream",
     "text": [
      "03:23:45.010000\n",
      "The hr =  3\n",
      "The minutes =  23\n"
     ]
    }
   ],
   "source": [
    "# Create time\n",
    "time = datetime.time(3,23,45,10000)\n",
    "print(time)\n",
    "\n",
    "print(\"The hr = \",time.hour)\n",
    "\n",
    "print(\"The minutes = \",time.minute)"
   ]
  },
  {
   "cell_type": "markdown",
   "metadata": {},
   "source": [
    "### Create datetime "
   ]
  },
  {
   "cell_type": "code",
   "execution_count": 35,
   "metadata": {},
   "outputs": [
    {
     "name": "stdout",
     "output_type": "stream",
     "text": [
      "2021-05-23 04:35:23.010000\n",
      "day  23\n",
      "hour  4\n",
      "seconds  23\n",
      "2021-08-29 18:51:03.400708\n",
      "2021-08-29 18:51:03.400708\n"
     ]
    }
   ],
   "source": [
    "dt_time = datetime.datetime(2021,5,23,4,35,23,10000)\n",
    "\n",
    "print(dt_time)\n",
    "print(\"day \",dt_time.day)\n",
    "print(\"hour \",dt_time.hour)\n",
    "\n",
    "print(\"seconds \",dt_time.second)\n",
    "\n",
    "# Print the date and time at present \n",
    "\n",
    "dt_time_now = datetime.datetime.now()\n",
    "\n",
    "print(dt_time_now)\n",
    "\n",
    "dt_time_today = datetime.datetime.today()\n",
    "\n",
    "print(dt_time_today)"
   ]
  },
  {
   "cell_type": "code",
   "execution_count": 40,
   "metadata": {},
   "outputs": [
    {
     "name": "stdout",
     "output_type": "stream",
     "text": [
      "2021-08-29 23:51:03.400708\n",
      "2021-09-03 18:51:03.400708\n"
     ]
    }
   ],
   "source": [
    "# time delta \n",
    "\n",
    "dt_time_delta = datetime.timedelta(hours=5)\n",
    "\n",
    "print(dt_time_now+dt_time_delta)\n",
    "\n",
    "## add days to cureent date \n",
    "\n",
    "day_5 = datetime.timedelta(days=5)\n",
    "\n",
    "print(dt_time_now+day_5)"
   ]
  }
 ],
 "metadata": {
  "kernelspec": {
   "display_name": "Python 3",
   "language": "python",
   "name": "python3"
  },
  "language_info": {
   "codemirror_mode": {
    "name": "ipython",
    "version": 3
   },
   "file_extension": ".py",
   "mimetype": "text/x-python",
   "name": "python",
   "nbconvert_exporter": "python",
   "pygments_lexer": "ipython3",
   "version": "3.8.5"
  }
 },
 "nbformat": 4,
 "nbformat_minor": 4
}
